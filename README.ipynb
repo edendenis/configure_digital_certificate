{
 "cells": [
  {
   "cell_type": "markdown",
   "metadata": {},
   "source": [
    "# Como configurar/instalar/usar o `configurar certificado digital com o Kleopatra` no `Linux Ubuntu`\n",
    "\n",
    "## Resumo\n",
    "\n",
    "Neste documento estão contidos os principais comandos e configurações para configurar/instalar/usar o `configurar certificado digital com o Kleopatra` no `Linux Ubuntu`.\n",
    "\n",
    "## _Abstract_\n",
    "\n",
    "_This document contains the main commands and settings for configuring/installing/using the `reset, reset and reinstall XFCE Window Manager` on `Linux Ubuntu`._"
   ]
  },
  {
   "cell_type": "markdown",
   "metadata": {},
   "source": [
    "## Descrição [2]\n",
    "\n",
    "### Certificado digital\n",
    "\n",
    "Um certificado digital é um documento eletrônico que vincula uma chave criptográfica à identidade de uma pessoa, organização ou dispositivo, permitindo a autenticação e a segurança em comunicações online. Ele funciona como uma identidade virtual, garantindo que as partes em uma transação digital sejam quem afirmam ser. Os certificados digitais são emitidos por Autoridades Certificadoras (CAs) e contêm informações como o nome do titular, a chave pública, a validade e a assinatura digital da CA. São amplamente utilizados em aplicações como comércio eletrônico, assinaturas digitais, e-mail seguro e autenticação de websites, contribuindo para a confiança e a integridade das comunicações na internet.\n",
    "\n",
    "### `Kleopatra`\n",
    "\n",
    "Kleopatra é uma ferramenta de gerenciamento de chaves e interface gráfica para o Gpg4win e o GnuPG, projetada para facilitar a criptografia e a assinatura de dados em ambientes Linux e Windows. Ela permite que os usuários gerenciem suas chaves criptográficas, importem e exportem chaves públicas, e realizem operações de criptografia e assinatura em arquivos e mensagens de forma intuitiva. Com uma interface amigável, o Kleopatra é amplamente utilizado por profissionais que precisam proteger informações sensíveis, garantir a autenticidade de documentos e comunicar-se de maneira segura.\n"
   ]
  },
  {
   "cell_type": "markdown",
   "metadata": {},
   "source": [
    "## 1. Como configurar/instalar/usar o `configurar certificado digital com o Kleopatra` no `Linux Ubuntu` [1][3]\n",
    "\n",
    "Para configurar/instalar/usar o `configurar certificado digital com o Kleopatra` no `Linux Ubuntu`, você pode seguir estes passos:\n",
    "\n",
    "1. Abra o `Terminal Emulator`. Você pode fazer isso pressionando: `Ctrl + Alt + T`"
   ]
  },
  {
   "cell_type": "markdown",
   "metadata": {},
   "source": [
    "2. Certifique-se de que seu sistema esteja limpo e atualizado.\n",
    "\n",
    "    2.1 Limpar o `cache` do gerenciador de pacotes `apt`. Especificamente, ele remove todos os arquivos de pacotes (`.deb`) baixados pelo `apt` e armazenados em `/var/cache/apt/archives/`. Digite o seguinte comando: `sudo apt clean` \n",
    "    \n",
    "    2.2 Remover pacotes `.deb` antigos ou duplicados do cache local. É útil para liberar espaço, pois remove apenas os pacotes que não podem mais ser baixados (ou seja, versões antigas de pacotes que foram atualizados). Digite o seguinte comando: `sudo apt autoclean`\n",
    "\n",
    "    2.3 Remover pacotes que foram automaticamente instalados para satisfazer as dependências de outros pacotes e que não são mais necessários. Digite o seguinte comando: `sudo apt autoremove -y`\n",
    "\n",
    "    2.4 Buscar as atualizações disponíveis para os pacotes que estão instalados em seu sistema. Digite o seguinte comando e pressione `Enter`: `sudo apt update`\n",
    "\n",
    "    2.5 **Corrigir pacotes quebrados**: Isso atualizará a lista de pacotes disponíveis e tentará corrigir pacotes quebrados ou com dependências ausentes: `sudo apt --fix-broken install`\n",
    "\n",
    "    2.6 Limpar o `cache` do gerenciador de pacotes `apt`. Especificamente, ele remove todos os arquivos de pacotes (`.deb`) baixados pelo `apt` e armazenados em `/var/cache/apt/archives/`. Digite o seguinte comando: `sudo apt clean` \n",
    "    \n",
    "    2.7 Para ver a lista de pacotes a serem atualizados, digite o seguinte comando e pressione `Enter`:  `sudo apt list --upgradable`\n",
    "\n",
    "    2.8 Realmente atualizar os pacotes instalados para as suas versões mais recentes, com base na última vez que você executou `sudo apt update`. Digite o seguinte comando e pressione `Enter`: `sudo apt full-upgrade -y`\n",
    "    "
   ]
  },
  {
   "cell_type": "markdown",
   "metadata": {},
   "source": [
    "### 1.1 Certificado de Assinatura Digital Autogerado (Certificado de Autoassinatura)\n",
    "\n",
    "Para obter um certificado digital gratuito para assinar um arquivo `.pdf`, você pode usar algumas opções disponíveis, embora certificados digitais gratuitos tenham limitações e sejam menos comuns. Aqui estão alguns métodos que podem atender a sua necessidade:\n",
    "\n",
    "Você pode criar um certificado digital localmente e usá-lo para assinar documentos. Este tipo de certificado **NÃO** é emitido por uma autoridade certificadora (AC) confiável para terceiros, mas é suficiente para validar a integridade de um documento, especialmente se o uso for interno ou pessoal.\n",
    "\n",
    "Ferramentas como o OpenSSL permitem criar certificados autogerados.\n",
    "\n",
    "O certificado não será reconhecido como confiável por sistemas ou terceiros, mas é útil para uso privado.\n",
    "Passos para criar o certificado usando OpenSSL:\n",
    "\n",
    "1. **Gerar uma chave privada**:\n",
    "\n",
    "```\n",
    "openssl genrsa -out private_key.pem 2048\n",
    "```\n",
    "\n",
    "2. **Gerar um certificado digital utilizando a chave privada**:\n",
    "\n",
    "```\n",
    "openssl req -new -x509 -key private_key.pem -out certificate.pem -days 365\n",
    "```\n",
    "\n",
    "Você pode usar este certificado para assinar um PDF utilizando _software_ como o Adobe Acrobat ou outras ferramentas que permitam importar certificados personalizados.\n"
   ]
  },
  {
   "cell_type": "markdown",
   "metadata": {
    "vscode": {
     "languageId": "plaintext"
    }
   },
   "source": [
    "### 1.2 Converter o Certificado para um Formato Compatível (PKCS#12)**: O Okular, entre outros programas, usam a infraestrutura do sistema `KDE` para gerenciar certificados. O formato `.pem` que você gerou precisa ser convertido para um formato `PKCS#12` (`.p12`), que é mais comumente reconhecido por ferramentas que fazem a gestão de certificados.\n",
    "\n",
    "Alguns programas como o Okular **NÃO** reconhecem o certificado gerado com o `OpenSSL`, pois ele requer que o certificado esteja disponível em um formato específico e em um local onde o sistema possa gerenciá-lo adequadamente. Vou detalhar o que você pode fazer para que esses programas, como o Okular reconheçam o certificado:\n",
    "\n",
    "Para converter o certificado e a chave privada em um arquivo `.p12`, use o seguinte comando:\n",
    "\n",
    "```\n",
    "openssl pkcs12 -export -out certificate.p12 -inkey private_key.pem -in certificate.pem -name \"Meu Certificado\"\n",
    "```\n",
    "\n",
    "Este comando vai gerar um arquivo `.p12` que inclui tanto a chave privada quanto o certificado em um formato que pode ser importado pelos gerenciadores de certificados.\n",
    "\n",
    "Durante a execução, ele vai pedir uma senha para proteger o arquivo `.p12`. Lembre-se dessa senha, pois será necessária ao importá-lo no sistema.\n"
   ]
  },
  {
   "cell_type": "markdown",
   "metadata": {
    "vscode": {
     "languageId": "plaintext"
    }
   },
   "source": [
    "### 1.3 Instalar o `Kleopatra`\n",
    "\n",
    "o `Kleopatra` é a ferramenta recomendada para gerenciar e importar certificados no `KDE`, e é a forma mais fácil de garantir que o seu certificado esteja acessível para o Okular, entre outros programas.\n",
    "\n",
    "No ambiente `KDE`, o `Kleopatra` é frequentemente usado para manipular certificados digitais, incluindo certificados do tipo `.p12` que você gerou. Ele faz a integração com o sistema e torna esses certificados disponíveis para outras aplicações, como o `Okular`.\n",
    "\n",
    "1. **Como Instalar o Kleopatra**:\n",
    "\n",
    "Você pode instalar o `Kleopatra` usando o gerenciador de pacotes da sua distribuição `Linux Ubuntu`. No caso de distribuições baseadas em `Debian/Ubuntu`, como o `Xubuntu`, você pode instalar com o seguinte comando:\n",
    "\n",
    "```\n",
    "sudo apt install kleopatra -y\n",
    "```\n",
    "\n",
    "Depois de instalado, siga os passos descritos anteriormente para importar o certificado no `Kleopatra`. Isso permitirá que o `Okular` acesse o certificado e você possa usá-lo para assinar documentos `.pdf`.\n"
   ]
  },
  {
   "cell_type": "markdown",
   "metadata": {
    "vscode": {
     "languageId": "plaintext"
    }
   },
   "source": [
    "### 1.3 Importar o Certificado no `KDE` com o `Kleopatra`\n",
    "\n",
    "O `Kleopatra` é o gerenciador de certificados do `KDE`, e você pode usá-lo para importar o arquivo `.p12`.\n",
    "\n",
    "1. **Abra o `Kleopatra`**.\n",
    "\n",
    "2. Vá para `File -> Import Certificates`.\n",
    "\n",
    "3. Selecione o arquivo `certificate.p12` que você acabou de criar.\n",
    "\n",
    "4. Durante a importação, você precisará fornecer a senha definida no passo anterior.\n",
    "\n",
    "    Isso deve tornar o certificado disponível para o Okular.\n"
   ]
  },
  {
   "cell_type": "markdown",
   "metadata": {
    "vscode": {
     "languageId": "plaintext"
    }
   },
   "source": [
    "### 1.4 Usar o Certificado no Okular\n",
    "\n",
    "Após importar o certificado usando o `Kleopatra`, tente novamente o seguinte:\n",
    "\n",
    "1. Abra o documento no Okular.\n",
    "\n",
    "2. Vá em `Tools -> Digital Sign` e selecione a área do documento onde deseja aplicar a assinatura.\n",
    "\n",
    "3. Agora o Okular deve listar o seu certificado recém-importado, permitindo que você o use para assinar o documento."
   ]
  },
  {
   "cell_type": "markdown",
   "metadata": {
    "vscode": {
     "languageId": "plaintext"
    }
   },
   "source": [
    "### 1.1 Código completo para configurar/instalar/usar\n",
    "\n",
    "Para configurar/instalar/usar o `configurar certificado digital com o Kleopatra` no `Linux Ubuntu` sem precisar digitar linha por linha, você pode seguir estas etapas:\n",
    "\n",
    "1. Abra o `Terminal Emulator`. Você pode fazer isso pressionando: `Ctrl + Alt + T`\n",
    "\n",
    "2. Digite o seguinte comando e pressione `Enter`:\n",
    "\n",
    "    ```\n",
    "    NÃO há.\n",
    "    ```\n"
   ]
  },
  {
   "cell_type": "markdown",
   "metadata": {
    "vscode": {
     "languageId": "plaintext"
    }
   },
   "source": [
    "## Referências\n",
    "\n",
    "[1] OPENAI. ***Certificado digital gratuito PDF.*** Disponível em: <https://chatgpt.com/c/67000153-c484-8002-9c54-ac7a463fa508> (texto adaptado). Acessado em: 07/10/2024 10:36.\n",
    "\n",
    "[2] OPENAI. ***Vs code: editor popular.*** Disponível em: <https://chat.openai.com/c/b640a25d-f8e3-4922-8a3b-ed74a2657e42> (texto adaptado). Acessado em: 07/10/2024 10:36.\n"
   ]
  }
 ],
 "metadata": {
  "kernelspec": {
   "display_name": "Python 3",
   "language": "python",
   "name": "python3"
  },
  "language_info": {
   "codemirror_mode": {
    "name": "ipython",
    "version": 3
   },
   "file_extension": ".py",
   "mimetype": "text/x-python",
   "name": "python",
   "nbconvert_exporter": "python",
   "pygments_lexer": "ipython3",
   "version": "3.11.8"
  },
  "orig_nbformat": 4
 },
 "nbformat": 4,
 "nbformat_minor": 2
}
